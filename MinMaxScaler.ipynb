{
 "metadata": {
  "language_info": {
   "codemirror_mode": {
    "name": "ipython",
    "version": 3
   },
   "file_extension": ".py",
   "mimetype": "text/x-python",
   "name": "python",
   "nbconvert_exporter": "python",
   "pygments_lexer": "ipython3",
   "version": "3.7.10"
  },
  "orig_nbformat": 4,
  "kernelspec": {
   "name": "python3",
   "display_name": "Python 3.7.10 64-bit ('3.7.10': pyenv)"
  },
  "interpreter": {
   "hash": "c0533fab4c94621ca8b21c0c15eaf4a369fb6d4ff61e159ce135329e2990de18"
  }
 },
 "nbformat": 4,
 "nbformat_minor": 2,
 "cells": [
  {
   "cell_type": "code",
   "execution_count": 20,
   "metadata": {},
   "outputs": [],
   "source": [
    "import torch\n",
    "import torch.nn as nn\n",
    "import numpy as np\n",
    "import pandas as pd\n",
    "import matplotlib.pyplot as plt\n",
    "from pandas_datareader import data\n",
    "from sklearn.preprocessing import MinMaxScaler\n",
    "import pandas.tseries.offsets as offsets"
   ]
  },
  {
   "cell_type": "code",
   "execution_count": 21,
   "metadata": {},
   "outputs": [
    {
     "output_type": "execute_result",
     "data": {
      "text/plain": [
       "array([ 0, 10, 20, 30, 40, 50, 60, 70])"
      ]
     },
     "metadata": {},
     "execution_count": 21
    }
   ],
   "source": [
    "# 一次元目のリストの要素の数を８個にする\n",
    "a = np.array([0, 10, 20, 30, 40, 50, 60, 70])\n",
    "a"
   ]
  },
  {
   "cell_type": "code",
   "execution_count": 22,
   "metadata": {},
   "outputs": [
    {
     "output_type": "execute_result",
     "data": {
      "text/plain": [
       "(8,)"
      ]
     },
     "metadata": {},
     "execution_count": 22
    }
   ],
   "source": [
    "a.shape"
   ]
  },
  {
   "cell_type": "code",
   "execution_count": 23,
   "metadata": {},
   "outputs": [
    {
     "output_type": "execute_result",
     "data": {
      "text/plain": [
       "array([[ 0, 10, 20, 30],\n",
       "       [40, 50, 60, 70]])"
      ]
     },
     "metadata": {},
     "execution_count": 23
    }
   ],
   "source": [
    "\n",
    "b = a.reshape(-1, 4)\n",
    "b"
   ]
  },
  {
   "cell_type": "code",
   "execution_count": 24,
   "metadata": {},
   "outputs": [
    {
     "output_type": "execute_result",
     "data": {
      "text/plain": [
       "(2, 4)"
      ]
     },
     "metadata": {},
     "execution_count": 24
    }
   ],
   "source": [
    "b.shape"
   ]
  },
  {
   "cell_type": "code",
   "execution_count": 25,
   "metadata": {},
   "outputs": [
    {
     "output_type": "execute_result",
     "data": {
      "text/plain": [
       "array([[[ 0, 10],\n",
       "        [20, 30],\n",
       "        [40, 50],\n",
       "        [60, 70]]])"
      ]
     },
     "metadata": {},
     "execution_count": 25
    }
   ],
   "source": [
    "c = a.reshape(-1, 4, 2)\n",
    "c"
   ]
  },
  {
   "cell_type": "code",
   "execution_count": 26,
   "metadata": {},
   "outputs": [
    {
     "output_type": "execute_result",
     "data": {
      "text/plain": [
       "(1, 4, 2)"
      ]
     },
     "metadata": {},
     "execution_count": 26
    }
   ],
   "source": [
    "c.shape"
   ]
  },
  {
   "cell_type": "code",
   "execution_count": 27,
   "metadata": {},
   "outputs": [
    {
     "output_type": "execute_result",
     "data": {
      "text/plain": [
       "array([ 0. , 11.1, 22.2, 33.3, 44.4, 55.5, 66.6, 77.7])"
      ]
     },
     "metadata": {},
     "execution_count": 27
    }
   ],
   "source": [
    "d = np.array([0.0, 11.1, 22.2, 33.3, 44.4, 55.5, 66.6, 77.7])\n",
    "d"
   ]
  },
  {
   "cell_type": "code",
   "execution_count": 28,
   "metadata": {},
   "outputs": [
    {
     "output_type": "execute_result",
     "data": {
      "text/plain": [
       "tensor([ 0, 11, 22, 33, 44, 55, 66, 77], dtype=torch.int32)"
      ]
     },
     "metadata": {},
     "execution_count": 28
    }
   ],
   "source": [
    "e = torch.IntTensor(d)\n",
    "e"
   ]
  },
  {
   "cell_type": "code",
   "execution_count": 29,
   "metadata": {},
   "outputs": [
    {
     "output_type": "execute_result",
     "data": {
      "text/plain": [
       "tensor([ 0.0000, 11.1000, 22.2000, 33.3000, 44.4000, 55.5000, 66.6000, 77.7000])"
      ]
     },
     "metadata": {},
     "execution_count": 29
    }
   ],
   "source": [
    "f = torch.FloatTensor(d)\n",
    "f"
   ]
  },
  {
   "cell_type": "code",
   "execution_count": 30,
   "metadata": {},
   "outputs": [
    {
     "output_type": "execute_result",
     "data": {
      "text/plain": [
       "tensor([[ 0.0000, 11.1000],\n",
       "        [22.2000, 33.3000],\n",
       "        [44.4000, 55.5000],\n",
       "        [66.6000, 77.7000]])"
      ]
     },
     "metadata": {},
     "execution_count": 30
    }
   ],
   "source": [
    "g = f.view(4, -1)\n",
    "g"
   ]
  },
  {
   "cell_type": "code",
   "execution_count": 31,
   "metadata": {},
   "outputs": [
    {
     "output_type": "execute_result",
     "data": {
      "text/plain": [
       "torch.Size([4, 2])"
      ]
     },
     "metadata": {},
     "execution_count": 31
    }
   ],
   "source": [
    "g.shape"
   ]
  },
  {
   "cell_type": "code",
   "execution_count": 32,
   "metadata": {},
   "outputs": [
    {
     "output_type": "execute_result",
     "data": {
      "text/plain": [
       "array([[ 0],\n",
       "       [10],\n",
       "       [20],\n",
       "       [30],\n",
       "       [40],\n",
       "       [50],\n",
       "       [60],\n",
       "       [70]])"
      ]
     },
     "metadata": {},
     "execution_count": 32
    }
   ],
   "source": [
    "a = a.reshape(-1, 1)\n",
    "a"
   ]
  },
  {
   "cell_type": "code",
   "execution_count": 33,
   "metadata": {},
   "outputs": [
    {
     "output_type": "execute_result",
     "data": {
      "text/plain": [
       "array([[-1.        ],\n",
       "       [-0.71428571],\n",
       "       [-0.42857143],\n",
       "       [-0.14285714],\n",
       "       [ 0.14285714],\n",
       "       [ 0.42857143],\n",
       "       [ 0.71428571],\n",
       "       [ 1.        ]])"
      ]
     },
     "metadata": {},
     "execution_count": 33
    }
   ],
   "source": [
    "# 最大値と最小値を設定したインスタンスを作成し、変数「scaler」に代入\n",
    "scaler = MinMaxScaler(feature_range=(-1, 1))\n",
    "\n",
    "# 最大値と最小値を計算\n",
    "scaler.fit(a)\n",
    "\n",
    "# 設定した大きさに数値を変換\n",
    "a = scaler.transform(a)\n",
    "\n",
    "# 二次元のNumpy Array\n",
    "a"
   ]
  },
  {
   "cell_type": "code",
   "execution_count": 34,
   "metadata": {},
   "outputs": [
    {
     "output_type": "execute_result",
     "data": {
      "text/plain": [
       "tensor([[-1.0000],\n",
       "        [-0.7143],\n",
       "        [-0.4286],\n",
       "        [-0.1429],\n",
       "        [ 0.1429],\n",
       "        [ 0.4286],\n",
       "        [ 0.7143],\n",
       "        [ 1.0000]])"
      ]
     },
     "metadata": {},
     "execution_count": 34
    }
   ],
   "source": [
    "a = torch.FloatTensor(a)\n",
    "\n",
    "# 二次元のPytorch Tensor\n",
    "a"
   ]
  },
  {
   "cell_type": "code",
   "execution_count": 35,
   "metadata": {},
   "outputs": [
    {
     "output_type": "execute_result",
     "data": {
      "text/plain": [
       "tensor([-1.0000, -0.7143, -0.4286, -0.1429,  0.1429,  0.4286,  0.7143,  1.0000])"
      ]
     },
     "metadata": {},
     "execution_count": 35
    }
   ],
   "source": [
    "b = a.view(-1)\n",
    "b"
   ]
  },
  {
   "cell_type": "code",
   "execution_count": null,
   "metadata": {},
   "outputs": [],
   "source": []
  }
 ]
}